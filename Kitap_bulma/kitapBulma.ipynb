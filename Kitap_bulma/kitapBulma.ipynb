{
    "cells": [
        {
            "cell_type": "code",
            "execution_count": 1,
            "metadata": {},
            "outputs": [],
            "source": [
                "from bs4 import BeautifulSoup\n",
                "import requests\n",
                "from selenium import webdriver\n",
                "import time \n",
                "from selenium.webdriver.common.keys import Keys"
            ]
        },
        {
            "cell_type": "markdown",
            "metadata": {},
            "source": [
                "# BKM KİTAP"
            ]
        },
        {
            "cell_type": "code",
            "execution_count": null,
            "metadata": {},
            "outputs": [],
            "source": [
                "driver_path = \"C:/chromedriver.exe\"\n",
                "browser = webdriver.Chrome(driver_path)\n",
                "\n",
                "kitap_adi = input(\"Kitap Adını giriniz : \")\n",
                "yayın_evi = input(\"Yayınevini giriniz : \")\n",
                "\n",
                "def bkm():\n",
                "\n",
                "    browser.get(\"https://www.google.com.tr/\") \n",
                "\n",
                "    bkm_kitap_veri_girisi = browser.find_element_by_css_selector(\".gLFyf.gsfi\")\n",
                "    bkm_kitap_veri_girisi.send_keys(kitap_adi+\" \"+yayın_evi+\" \"+\" site:bkmkitap.com\")\n",
                "    time.sleep(2)\n",
                "\n",
                "    bkm_kitap_veri_girisi.send_keys(Keys.ENTER)\n",
                "    time.sleep(2)\n",
                "\n",
                "    bkm_kitap_tikla = browser.find_element_by_xpath(\"//*[@id='rso']/div[1]/div/div/div/div[1]/a\")\n",
                "    bkm_kitap_tikla.click()\n",
                "\n",
                "    bkm_kitap_sayfa = browser.page_source\n",
                "    bkm_kitap_soup = BeautifulSoup(bkm_kitap_sayfa , \"lxml\")\n",
                "\n",
                "    bkm_kitap_bilgiler = bkm_kitap_soup.find(\"div\", attrs={\"id\":\"productInfo\"})\n",
                "\n",
                "    bkm_kitap_adi = bkm_kitap_bilgiler.find(\"h1\").text\n",
                "    bkm_kitap_yayin_evi = bkm_kitap_bilgiler.find(\"a\").text.strip()\n",
                "    bkm_kitap_yazar_adi = bkm_kitap_bilgiler.find(\"a\", attrs={\"id\":\"productModelText\"}).text.strip()\n",
                "    bkm_kitap_fiyati = bkm_kitap_soup.find(\"span\", attrs={\"class\":\"product-price\"}).text\n",
                "\n",
                "    print(\"Kitap Adı : \" + bkm_kitap_adi +\"\\n\" +\"Yayın Evi : \"+ bkm_kitap_yayin_evi + \"\\n\" + \"Yazar : \"+ bkm_kitap_yazar_adi + \"\\n\" + \"Fiyat : \" + bkm_kitap_fiyati)\n",
                "\n",
                "def kitapyurdu():\n",
                "    \n",
                "    browser.get(\"https://www.google.com.tr/\") \n",
                "\n",
                "    veri_girisi = browser.find_element_by_css_selector(\".gLFyf.gsfi\")\n",
                "    veri_girisi.send_keys(kitap_adi+\" \"+yayın_evi+\" \"+\" site:kitapyurdu.com\")\n",
                "    time.sleep(2)\n",
                "\n",
                "    veri_girisi.send_keys(Keys.ENTER)\n",
                "    time.sleep(2)\n",
                "\n",
                "    tikla = browser.find_element_by_xpath(\"//*[@id='rso']/div[1]/div/div/div/div[1]/a\")\n",
                "    tikla.click()\n",
                "\n",
                "    kitapyurdu_sayfa = browser.page_source\n",
                "    kitapyurdu_soup = BeautifulSoup(kitapyurdu_sayfa , \"lxml\")\n",
                "\n",
                "    kitapyurdu_kitap_adi = kitapyurdu_soup.find(\"h1\", attrs={\"class\":\"pr_header__heading\"}).text\n",
                "    kitapyurdu_yazar_adi = kitapyurdu_soup.find(\"a\", attrs={\"class\":\"pr_producers__link\"}).text\n",
                "    kitapyurdu_yayin_evi = kitapyurdu_soup.find(\"div\", attrs={\"class\":\"pr_producers__publisher\"}).text.strip()\n",
                "    kitapyurdu_kitap_fiyati = kitapyurdu_soup.find(\"div\" , attrs={\"class\":\"price__item\"}).text.strip()\n",
                "\n",
                "    print(\"Kitap Adı : \" + kitapyurdu_kitap_adi +\"\\n\" +\"Yayın Evi : \"+ kitapyurdu_yayin_evi + \"\\n\" + \"Yazar : \"+ kitapyurdu_yazar_adi + \"\\n\" + \"Fiyat : \" + kitapyurdu_kitap_fiyati)\n",
                "\n",
                "\n",
                "bkm()\n",
                "kitapyurdu()\n",
                "\n",
                "\n"
            ]
        },
        {
            "cell_type": "code",
            "execution_count": null,
            "metadata": {},
            "outputs": [],
            "source": []
        }
    ],
    "metadata": {
        "interpreter": {
            "hash": "93aa3f1ef31515a1d136ff597d31ecc6082c520373eea8ab62059d2ccbf47542"
        },
        "kernelspec": {
            "display_name": "Python 3.9.2 64-bit",
            "name": "python3"
        },
        "language_info": {
            "codemirror_mode": {
                "name": "ipython",
                "version": 3
            },
            "file_extension": ".py",
            "mimetype": "text/x-python",
            "name": "python",
            "nbconvert_exporter": "python",
            "pygments_lexer": "ipython3",
            "version": "3.9.2"
        },
        "orig_nbformat": 4
    },
    "nbformat": 4,
    "nbformat_minor": 2
}
